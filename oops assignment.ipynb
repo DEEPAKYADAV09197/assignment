{
 "cells": [
  {
   "cell_type": "markdown",
   "id": "d45da77f-ccbb-49a7-b8c6-1fb05bb08131",
   "metadata": {},
   "source": [
    "OOPS ASSIGNMENT"
   ]
  },
  {
   "cell_type": "markdown",
   "id": "b8709469-e9f6-491a-8ddc-e5141e35517a",
   "metadata": {},
   "source": [
    "Q1.Explain class and object with respect to object-oriented programming. give a suitable example."
   ]
  },
  {
   "cell_type": "code",
   "execution_count": 2,
   "id": "0b49f011-23e5-4eb6-8cb3-7c3a78c9ee7a",
   "metadata": {},
   "outputs": [],
   "source": [
    "a=1                 here,a is (object)"
   ]
  },
  {
   "cell_type": "code",
   "execution_count": 3,
   "id": "73359736-82cf-4a9e-8c36-d0662a066805",
   "metadata": {},
   "outputs": [
    {
     "name": "stdout",
     "output_type": "stream",
     "text": [
      "<class 'int'>\n"
     ]
    }
   ],
   "source": [
    "print(type(a))"
   ]
  },
  {
   "cell_type": "markdown",
   "id": "e49130a3-fa41-4c53-b8d9-7ee18d4442bf",
   "metadata": {},
   "source": [
    "here ,'int' is (class) which classify the real world entity and its also a blue print."
   ]
  },
  {
   "cell_type": "markdown",
   "id": "41036f49-5262-4988-b9e2-d09d7a70c6e7",
   "metadata": {},
   "source": [
    "Q.2. Name the four pillars of oops."
   ]
  },
  {
   "cell_type": "markdown",
   "id": "13e0f643-21cb-4b49-8bb8-115e734dc7a9",
   "metadata": {},
   "source": [
    "Ans. 1 Encapsulation \n",
    "     2 Abstraction \n",
    "     3 Inheritance\n",
    "     4 Polymorphism"
   ]
  },
  {
   "cell_type": "markdown",
   "id": "89695fb0-3aa4-4999-80fa-676c86369ba4",
   "metadata": {},
   "source": [
    "Q.3 Explain why the __init__() function is used . give a suitable example."
   ]
  },
  {
   "cell_type": "markdown",
   "id": "c9aa8199-3a28-4ab9-bfa0-fc7edcf11cd8",
   "metadata": {},
   "source": [
    "Ans. init= constructor/ inbuilt function (its used to pass the data in class)"
   ]
  },
  {
   "cell_type": "code",
   "execution_count": 4,
   "id": "2101f44e-62cf-41ee-8ada-a5a519d9a48f",
   "metadata": {},
   "outputs": [],
   "source": [
    "class ganatechnical :\n",
    "    def __init__(self ,phone_number,email_id,student_id):\n",
    "        self.phone_number=phone_number\n",
    "        self.email_id=email_id\n",
    "        self.student_id=student_id\n",
    "        \n",
    "        def return_student_details(self):\n",
    "            return self.student_id,self.phone_number,self.email_id"
   ]
  },
  {
   "cell_type": "markdown",
   "id": "dc142876-0597-430e-8b1e-60c409807429",
   "metadata": {},
   "source": [
    "Q.4 Why self is used in oops?"
   ]
  },
  {
   "cell_type": "markdown",
   "id": "09bddb16-9838-4e9c-a677-7d81310a3057",
   "metadata": {},
   "source": [
    "Ans.self is used to bind with class,its a pointer or also provide reference and used for variable."
   ]
  },
  {
   "cell_type": "markdown",
   "id": "f597357e-75d4-40ab-a3f4-98292e261946",
   "metadata": {},
   "source": [
    "Q.5 What is inheritance?give an example for each type of inheritance."
   ]
  },
  {
   "cell_type": "markdown",
   "id": "1c54e49c-e47c-4d50-8fdd-1ab95169bd7a",
   "metadata": {},
   "source": [
    "Ans.Inheritance is a mechanism in which one class acquires the property of another class. \n",
    "\n",
    " Types of inheritance-\n",
    " \n",
    "  1.single/ simple inheritance \n",
    "   Ex. class A (parent class)\n",
    "       class B (child class )\n",
    "       \n",
    " 2.Multilevel inheritance \n",
    "  Ex. class A (base )\n",
    "      class B (intermediate class)\n",
    "      class C (derived class)\n",
    "      \n",
    " 3.Multiple inheritance \n",
    "  Ex.  class A, class B,class C (base class)\n",
    "       \n",
    " 4.Hierarchial inheritance \n",
    "   Ex. class A,class B, class C(derived class)\n",
    "   \n",
    " 5.Hybrid inheritance \n",
    "   Ex. class A (base class)\n",
    "       class B1, class B2(base derived)\n",
    "       class C (derived class)"
   ]
  }
 ],
 "metadata": {
  "kernelspec": {
   "display_name": "Python 3 (ipykernel)",
   "language": "python",
   "name": "python3"
  },
  "language_info": {
   "codemirror_mode": {
    "name": "ipython",
    "version": 3
   },
   "file_extension": ".py",
   "mimetype": "text/x-python",
   "name": "python",
   "nbconvert_exporter": "python",
   "pygments_lexer": "ipython3",
   "version": "3.10.8"
  }
 },
 "nbformat": 4,
 "nbformat_minor": 5
}
