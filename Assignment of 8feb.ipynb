{
 "cells": [
  {
   "cell_type": "markdown",
   "id": "ea231def-fc6a-4b09-8880-78774fd5775b",
   "metadata": {},
   "source": [
    "Abstraction and Encapsulation"
   ]
  },
  {
   "cell_type": "markdown",
   "id": "aab71bbd-a0cf-44ad-b689-30d34c5b6af6",
   "metadata": {},
   "source": [
    "Q.1 what is abstraction in oops? explain with an example"
   ]
  },
  {
   "cell_type": "markdown",
   "id": "8c227b09-c0c8-45ef-ad17-5073318d94ee",
   "metadata": {},
   "source": [
    "Ans. A programmer hides all but the relevant data about an object in order to reduce complexity and increase efficiency.\n",
    " Ex. making coffee with a coffee machine is a good example of abstraction."
   ]
  },
  {
   "cell_type": "markdown",
   "id": "853313d6-fa7e-4436-9353-78b2a4ae6605",
   "metadata": {},
   "source": [
    "Q.2 Differentiate between abstraction and encapsulation. explain with an example\n",
    " \n",
    " Ans. Abstraction is the method of hiding the unwanted information. whereas encapsulation is a method to hide the data in a single entity or unit along with a method to protect information from outside.\n",
    " Ex. 1. real world example of an abstraction is getting dressed in the morning \n",
    "     2. interaction  between a user and a mobile phone.\n"
   ]
  },
  {
   "cell_type": "markdown",
   "id": "c1d6bee5-ee5f-4c25-9429-f22b51b3fff3",
   "metadata": {},
   "source": [
    "Q.3 what is abc module in python? why is it used?\n",
    "\n",
    "Ans. abc stands for 'Abstract base class',it provides the infrastructure for defining custom abstract base classes. "
   ]
  },
  {
   "cell_type": "markdown",
   "id": "24387447-d743-46de-b604-661bcd6943ea",
   "metadata": {},
   "source": [
    "Q.4 How can we achieve data abstraction?\n",
    "\n",
    "Ans. abstraction is achieved by using the abstract key word for classes and interfaces."
   ]
  },
  {
   "cell_type": "markdown",
   "id": "17859a4b-226f-48b4-81ca-b9575c6e6f1f",
   "metadata": {},
   "source": [
    "Q.5 Can we create an instance of an abstract class ? explain your answer.\n",
    "\n",
    "Ans. abstract classes cannot be instantiated. but they can be subclassed. when an abstract class is subclassed, the subclas usually provides implementation for all the abstract methods in its parent class. however, if it does not ,then the subclass must also be declared abstract.  "
   ]
  }
 ],
 "metadata": {
  "kernelspec": {
   "display_name": "Python 3 (ipykernel)",
   "language": "python",
   "name": "python3"
  },
  "language_info": {
   "codemirror_mode": {
    "name": "ipython",
    "version": 3
   },
   "file_extension": ".py",
   "mimetype": "text/x-python",
   "name": "python",
   "nbconvert_exporter": "python",
   "pygments_lexer": "ipython3",
   "version": "3.10.8"
  }
 },
 "nbformat": 4,
 "nbformat_minor": 5
}
